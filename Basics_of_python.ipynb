{
 "cells": [
  {
   "cell_type": "markdown",
   "id": "cae448f0",
   "metadata": {},
   "source": [
    "*Python* : Is a programming language\n"
   ]
  },
  {
   "cell_type": "markdown",
   "id": "350ee0b2",
   "metadata": {},
   "source": [
    "#### Python variables\n",
    "* They assign value to data\n",
    "* Variable = data\n",
    "\n"
   ]
  },
  {
   "cell_type": "code",
   "execution_count": 1,
   "id": "3cbccd48",
   "metadata": {},
   "outputs": [],
   "source": [
    "# declaring a variable name and email\n",
    "full_name = \"Kellen Kinya\"\n",
    "email = \"kinyakellen@gmail.com\""
   ]
  },
  {
   "cell_type": "code",
   "execution_count": 2,
   "id": "e94760b5",
   "metadata": {},
   "outputs": [
    {
     "data": {
      "text/plain": [
       "'Kellen Kinya'"
      ]
     },
     "execution_count": 2,
     "metadata": {},
     "output_type": "execute_result"
    }
   ],
   "source": [
    "# calling the variable\n",
    "full_name"
   ]
  },
  {
   "cell_type": "code",
   "execution_count": 3,
   "id": "e6267429",
   "metadata": {},
   "outputs": [
    {
     "data": {
      "text/plain": [
       "'kinyakellen@gmail.com'"
      ]
     },
     "execution_count": 3,
     "metadata": {},
     "output_type": "execute_result"
    }
   ],
   "source": [
    "email"
   ]
  },
  {
   "cell_type": "code",
   "execution_count": 4,
   "id": "09d29a5d",
   "metadata": {},
   "outputs": [
    {
     "data": {
      "text/plain": [
       "'Send an email  to Kellen Kinya at kinyakellen@gmail.com to congratulate her.'"
      ]
     },
     "execution_count": 4,
     "metadata": {},
     "output_type": "execute_result"
    }
   ],
   "source": [
    "# Using the assigned variable to construct a message \n",
    "# + + are used for string concateneation \n",
    "'Send an email  to ' + full_name +  \" at \" + email +  \" to congratulate her.\""
   ]
  },
  {
   "cell_type": "code",
   "execution_count": 5,
   "id": "8dea0490",
   "metadata": {},
   "outputs": [
    {
     "data": {
      "text/plain": [
       "'send an email to Kellen Kinya at kinyakellen@gmail.com to congratulate her.'"
      ]
     },
     "execution_count": 5,
     "metadata": {},
     "output_type": "execute_result"
    }
   ],
   "source": [
    "# concatenating using f string \n",
    "f'send an email to {full_name} at {email} to congratulate her.'"
   ]
  },
  {
   "cell_type": "code",
   "execution_count": 6,
   "id": "6d94683b",
   "metadata": {},
   "outputs": [
    {
     "data": {
      "text/plain": [
       "'my names are Kellen Kinya'"
      ]
     },
     "execution_count": 6,
     "metadata": {},
     "output_type": "execute_result"
    }
   ],
   "source": [
    "\"my names are \" + full_name "
   ]
  },
  {
   "cell_type": "markdown",
   "id": "41e6a0bb",
   "metadata": {},
   "source": [
    "### Variable types / data types in python\n",
    "1. Strings : are text data\n",
    "2. Numerical types : integers, floats, complex\n",
    "    * int : are whole numbers(without decimals)\n",
    "    * float : a number with a decimal\n",
    "    * complex : represented by (x + yi). it takes 2 parameter (real and imaginary)\n",
    "3. Sequence types : Stores collection of data(stores multiple items/elements in a single variable)\n",
    "* List \n",
    "    * List items are ordered, changeable, and allow duplicate values.\n",
    "    * List items are indexed, the first item has index [0], the second item has index [1] etc\n",
    "* Tuples\n",
    "    * A tuple is a collection which is ordered and unchangeable.\n",
    "    * Tuples are written with round brackets.\n",
    "\n",
    "4. Boolean type : bool\n",
    "    * Has two possible values, true or false\n",
    "5. sets type : sets, frozen set\n",
    "* Sets\n",
    "    A set is just like a list, except elements do not have order and each element appears just once\n",
    "6. Binary types : bytes, bytesarray, memoryview\n",
    "7. None type : Nonetype\n"
   ]
  },
  {
   "cell_type": "code",
   "execution_count": 7,
   "id": "4d8bc508",
   "metadata": {},
   "outputs": [
    {
     "data": {
      "text/plain": [
       "str"
      ]
     },
     "execution_count": 7,
     "metadata": {},
     "output_type": "execute_result"
    }
   ],
   "source": [
    "type(full_name)"
   ]
  },
  {
   "cell_type": "markdown",
   "id": "c240f27c",
   "metadata": {},
   "source": [
    "To use built in methods on a data type, this format is used\n",
    "* [INSTANCE OF A DATATYPE] [DOT] [METHOD NAME] [PARENTHESES]\n",
    "\n",
    " To discover new method use \n",
    " * help(datatype)  i.e help(str)"
   ]
  },
  {
   "cell_type": "code",
   "execution_count": 8,
   "id": "3eeb6d6d",
   "metadata": {},
   "outputs": [
    {
     "data": {
      "text/plain": [
       "'KELLEN KINYA'"
      ]
     },
     "execution_count": 8,
     "metadata": {},
     "output_type": "execute_result"
    }
   ],
   "source": [
    "# examples \n",
    "full_name.upper()"
   ]
  },
  {
   "cell_type": "code",
   "execution_count": 9,
   "id": "73caff79",
   "metadata": {},
   "outputs": [
    {
     "data": {
      "text/plain": [
       "True"
      ]
     },
     "execution_count": 9,
     "metadata": {},
     "output_type": "execute_result"
    }
   ],
   "source": [
    "full_name.endswith(\"a\")"
   ]
  },
  {
   "cell_type": "code",
   "execution_count": 10,
   "id": "d16ce344",
   "metadata": {},
   "outputs": [
    {
     "data": {
      "text/plain": [
       "False"
      ]
     },
     "execution_count": 10,
     "metadata": {},
     "output_type": "execute_result"
    }
   ],
   "source": [
    "full_name.endswith(\"k\")"
   ]
  },
  {
   "cell_type": "code",
   "execution_count": 11,
   "id": "d423e903",
   "metadata": {},
   "outputs": [
    {
     "data": {
      "text/plain": [
       "'wow we love coding and strings!'"
      ]
     },
     "execution_count": 11,
     "metadata": {},
     "output_type": "execute_result"
    }
   ],
   "source": [
    "sentence = \"woW WE LOVE cOdInG and strINGS!\"\n",
    "sentence.lower()"
   ]
  },
  {
   "cell_type": "code",
   "execution_count": 12,
   "id": "99c91952",
   "metadata": {},
   "outputs": [
    {
     "data": {
      "text/plain": [
       "'Learn. love. code.'"
      ]
     },
     "execution_count": 12,
     "metadata": {},
     "output_type": "execute_result"
    }
   ],
   "source": [
    "flatiron_mantra = \"learn. love. code.\"\n",
    "# first letter capitalized\n",
    "flatiron_mantra.capitalize()"
   ]
  },
  {
   "cell_type": "code",
   "execution_count": 13,
   "id": "c080e80f",
   "metadata": {},
   "outputs": [
    {
     "data": {
      "text/plain": [
       "'Learn. Love. Code.'"
      ]
     },
     "execution_count": 13,
     "metadata": {},
     "output_type": "execute_result"
    }
   ],
   "source": [
    "# All first letter capitalized\n",
    "flatiron_mantra.title()"
   ]
  },
  {
   "cell_type": "code",
   "execution_count": 14,
   "id": "f5c382ea",
   "metadata": {},
   "outputs": [
    {
     "data": {
      "text/plain": [
       "'learn. love. live.'"
      ]
     },
     "execution_count": 14,
     "metadata": {},
     "output_type": "execute_result"
    }
   ],
   "source": [
    "# replace code with live in the sentense\n",
    "flatiron_mantra.replace('code', 'live')"
   ]
  },
  {
   "cell_type": "code",
   "execution_count": 15,
   "id": "6e276c1b",
   "metadata": {},
   "outputs": [
    {
     "data": {
      "text/plain": [
       "False"
      ]
     },
     "execution_count": 15,
     "metadata": {},
     "output_type": "execute_result"
    }
   ],
   "source": [
    "ends_with_com = \"art.vandelay@vandelay.co\" # False\n",
    "ends_with_com.endswith(\".com\")"
   ]
  },
  {
   "cell_type": "code",
   "execution_count": 16,
   "id": "4ae745ae",
   "metadata": {},
   "outputs": [
    {
     "data": {
      "text/plain": [
       "'www.vandelay.com'"
      ]
     },
     "execution_count": 16,
     "metadata": {},
     "output_type": "execute_result"
    }
   ],
   "source": [
    "web_address = 'vandelay.com' # 'www.vandelay.com\n",
    "\"www.\" +web_address"
   ]
  },
  {
   "cell_type": "code",
   "execution_count": 17,
   "id": "5cff33e8",
   "metadata": {},
   "outputs": [
    {
     "data": {
      "text/plain": [
       "'www.vandelay.com'"
      ]
     },
     "execution_count": 17,
     "metadata": {},
     "output_type": "execute_result"
    }
   ],
   "source": [
    "f'www.{web_address}'"
   ]
  },
  {
   "cell_type": "code",
   "execution_count": 18,
   "id": "4f52804a",
   "metadata": {},
   "outputs": [
    {
     "data": {
      "text/plain": [
       "7285553334"
      ]
     },
     "execution_count": 18,
     "metadata": {},
     "output_type": "execute_result"
    }
   ],
   "source": [
    "phone_num_one = \"7285553334\" # 7285553335\n",
    "phone_num_one = int(phone_num_one)\n",
    "phone_num_one"
   ]
  },
  {
   "cell_type": "code",
   "execution_count": 19,
   "id": "2b97b8c7",
   "metadata": {},
   "outputs": [
    {
     "data": {
      "text/plain": [
       "(4+7j)"
      ]
     },
     "execution_count": 19,
     "metadata": {},
     "output_type": "execute_result"
    }
   ],
   "source": [
    "real =4\n",
    "imaginary =7\n",
    "complex_number = complex(real, imaginary)\n",
    "complex_number"
   ]
  },
  {
   "cell_type": "code",
   "execution_count": 20,
   "id": "ab4a9f06",
   "metadata": {},
   "outputs": [
    {
     "data": {
      "text/plain": [
       "(3+17j)"
      ]
     },
     "execution_count": 20,
     "metadata": {},
     "output_type": "execute_result"
    }
   ],
   "source": [
    "complex(3,17)"
   ]
  },
  {
   "cell_type": "markdown",
   "id": "f52e9438",
   "metadata": {},
   "source": [
    "## Control flow: Conditionals"
   ]
  },
  {
   "cell_type": "markdown",
   "id": "7254ecbc",
   "metadata": {},
   "source": [
    "Python has 3 conditional statements  *if*, *elif* and *else*"
   ]
  },
  {
   "cell_type": "code",
   "execution_count": 21,
   "id": "ef067475",
   "metadata": {},
   "outputs": [
    {
     "data": {
      "text/plain": [
       "50"
      ]
     },
     "execution_count": 21,
     "metadata": {},
     "output_type": "execute_result"
    }
   ],
   "source": [
    "number_50 = 100\n",
    "my_number = 100\n",
    "if number_50 > 100:\n",
    "    # if number_50 is greater than 100, assign the `my_number` variable to the number 100\n",
    "    my_number = 100\n",
    "elif  number_50 > 50:\n",
    "    # if number_50 is greater than 50, assign the `my_number` variable to the number 50\n",
    "    my_number = 50\n",
    "else: \n",
    "    my_number = 0\n",
    "    # else assign the `my_number` variable to 0\n",
    "my_number   "
   ]
  },
  {
   "cell_type": "code",
   "execution_count": 22,
   "id": "e4553ae8",
   "metadata": {},
   "outputs": [
    {
     "data": {
      "text/plain": [
       "'This is nothing! Bring on the heat'"
      ]
     },
     "execution_count": 22,
     "metadata": {},
     "output_type": "execute_result"
    }
   ],
   "source": [
    "temperature =60\n",
    "is_it_hot =None\n",
    "if temperature > 80:\n",
    "    is_it_hot = \"It is so hot out\"\n",
    "else: \n",
    "    is_it_hot = \"This is nothing! Bring on the heat\"\n",
    "is_it_hot"
   ]
  },
  {
   "cell_type": "code",
   "execution_count": 23,
   "id": "8e9f7c80",
   "metadata": {},
   "outputs": [
    {
     "data": {
      "text/plain": [
       "'Saturday'"
      ]
     },
     "execution_count": 23,
     "metadata": {},
     "output_type": "execute_result"
    }
   ],
   "source": [
    "today_is =6\n",
    "day_of_the_week =None\n",
    "\n",
    "if today_is ==1:\n",
    "    day_of_the_week ='Sunday'\n",
    "elif today_is ==2:\n",
    "    day_of_the_week ='Monday'\n",
    "elif today_is ==3:\n",
    "    day_of_the_week = 'Tuesday'\n",
    "elif today_is ==4:\n",
    "    day_of_the_week ='Wednesday'\n",
    "elif today_is ==5:\n",
    "    day_of_the_week = 'Thursday'\n",
    "elif today_is ==6:\n",
    "    day_of_the_week ='Saturday'\n",
    "else:\n",
    "    day_of_the_week = \"N/A\"\n",
    "\n",
    "day_of_the_week"
   ]
  },
  {
   "cell_type": "code",
   "execution_count": 24,
   "id": "86db62b7",
   "metadata": {},
   "outputs": [
    {
     "data": {
      "text/plain": [
       "False"
      ]
     },
     "execution_count": 24,
     "metadata": {},
     "output_type": "execute_result"
    }
   ],
   "source": [
    "string = \"Python\"\n",
    "sub_string = \"an\"\n",
    "ends_with = None\n",
    "# conditionals go here\n",
    "if string.endswith(sub_string):\n",
    "    ends_with =True\n",
    "else:\n",
    "    ends_with =False\n",
    "ends_with"
   ]
  },
  {
   "cell_type": "markdown",
   "id": "634b9d6e",
   "metadata": {},
   "source": [
    "### List"
   ]
  },
  {
   "cell_type": "code",
   "execution_count": 25,
   "id": "a9ba0044",
   "metadata": {},
   "outputs": [],
   "source": [
    "top_travel_cities = ['Solta', 'Greenville', 'Buenos Aires', 'Los Cabos', 'Walla Walla Valley', 'Marakesh', 'Albuquerque', 'Archipelago Sea', 'Iguazu Falls', 'Salina Island', 'Toronto', 'Pyeongchang']"
   ]
  },
  {
   "cell_type": "code",
   "execution_count": 26,
   "id": "c745e274",
   "metadata": {},
   "outputs": [
    {
     "data": {
      "text/plain": [
       "['Solta',\n",
       " 'Greenville',\n",
       " 'Buenos Aires',\n",
       " 'Los Cabos',\n",
       " 'Walla Walla Valley',\n",
       " 'Marakesh',\n",
       " 'Albuquerque',\n",
       " 'Archipelago Sea',\n",
       " 'Iguazu Falls',\n",
       " 'Salina Island',\n",
       " 'Toronto',\n",
       " 'Pyeongchang']"
      ]
     },
     "execution_count": 26,
     "metadata": {},
     "output_type": "execute_result"
    }
   ],
   "source": [
    "top_travel_cities"
   ]
  },
  {
   "cell_type": "code",
   "execution_count": 27,
   "id": "94a1017c",
   "metadata": {},
   "outputs": [
    {
     "data": {
      "text/plain": [
       "'Walla Walla Valley'"
      ]
     },
     "execution_count": 27,
     "metadata": {},
     "output_type": "execute_result"
    }
   ],
   "source": [
    "#accessing elements in a list(slicing: is not destructive)\n",
    "top_travel_cities[4]"
   ]
  },
  {
   "cell_type": "code",
   "execution_count": 28,
   "id": "9aee5ce2",
   "metadata": {},
   "outputs": [
    {
     "data": {
      "text/plain": [
       "['Buenos Aires', 'Los Cabos', 'Walla Walla Valley']"
      ]
     },
     "execution_count": 28,
     "metadata": {},
     "output_type": "execute_result"
    }
   ],
   "source": [
    "top_travel_cities[2:5]"
   ]
  },
  {
   "cell_type": "code",
   "execution_count": 29,
   "id": "4d12bf63",
   "metadata": {},
   "outputs": [
    {
     "data": {
      "text/plain": [
       "'Toronto'"
      ]
     },
     "execution_count": 29,
     "metadata": {},
     "output_type": "execute_result"
    }
   ],
   "source": [
    "top_travel_cities[-2]"
   ]
  },
  {
   "cell_type": "code",
   "execution_count": 30,
   "id": "bae9d059",
   "metadata": {},
   "outputs": [
    {
     "data": {
      "text/plain": [
       "['Solta',\n",
       " 'Greenville',\n",
       " 'Buenos Aires',\n",
       " 'Los Cabos',\n",
       " 'Walla Walla Valley',\n",
       " 'Marakesh',\n",
       " 'Albuquerque',\n",
       " 'Archipelago Sea',\n",
       " 'Iguazu Falls',\n",
       " 'Salina Island',\n",
       " 'Toronto',\n",
       " 'Pyeongchang',\n",
       " 'San_Antonio']"
      ]
     },
     "execution_count": 30,
     "metadata": {},
     "output_type": "execute_result"
    }
   ],
   "source": [
    "### changing elements with destructive methods\n",
    "#append adds  element to a list\n",
    "top_travel_cities.append('San_Antonio')\n",
    "top_travel_cities"
   ]
  },
  {
   "cell_type": "code",
   "execution_count": 31,
   "id": "4d6af6b4",
   "metadata": {},
   "outputs": [
    {
     "data": {
      "text/plain": [
       "'San_Antonio'"
      ]
     },
     "execution_count": 31,
     "metadata": {},
     "output_type": "execute_result"
    }
   ],
   "source": [
    "#pop removes the last element in a list\n",
    "top_travel_cities.pop()"
   ]
  },
  {
   "cell_type": "code",
   "execution_count": 32,
   "id": "5c84131d",
   "metadata": {},
   "outputs": [
    {
     "data": {
      "text/plain": [
       "['Solta',\n",
       " 'Greenville',\n",
       " 'Buenos Aires',\n",
       " 'Los Cabos',\n",
       " 'Walla Walla Valley',\n",
       " 'Marakesh',\n",
       " 'Albuquerque',\n",
       " 'Archipelago Sea',\n",
       " 'Iguazu Falls',\n",
       " 'Salina Island',\n",
       " 'Toronto',\n",
       " 'Pyeongchang']"
      ]
     },
     "execution_count": 32,
     "metadata": {},
     "output_type": "execute_result"
    }
   ],
   "source": [
    "top_travel_cities"
   ]
  },
  {
   "cell_type": "code",
   "execution_count": 33,
   "id": "064666d0",
   "metadata": {},
   "outputs": [
    {
     "data": {
      "text/plain": [
       "'Walla Walla Valley'"
      ]
     },
     "execution_count": 33,
     "metadata": {},
     "output_type": "execute_result"
    }
   ],
   "source": [
    "top_travel_cities[4]"
   ]
  },
  {
   "cell_type": "code",
   "execution_count": 34,
   "id": "16d27976",
   "metadata": {},
   "outputs": [],
   "source": [
    "top_travel_cities[4] = 5"
   ]
  },
  {
   "cell_type": "code",
   "execution_count": 35,
   "id": "bdaea622",
   "metadata": {},
   "outputs": [
    {
     "data": {
      "text/plain": [
       "['Solta',\n",
       " 'Greenville',\n",
       " 'Buenos Aires',\n",
       " 'Los Cabos',\n",
       " 5,\n",
       " 'Marakesh',\n",
       " 'Albuquerque',\n",
       " 'Archipelago Sea',\n",
       " 'Iguazu Falls',\n",
       " 'Salina Island',\n",
       " 'Toronto',\n",
       " 'Pyeongchang']"
      ]
     },
     "execution_count": 35,
     "metadata": {},
     "output_type": "execute_result"
    }
   ],
   "source": [
    "top_travel_cities"
   ]
  },
  {
   "cell_type": "code",
   "execution_count": 36,
   "id": "05c77520",
   "metadata": {},
   "outputs": [
    {
     "data": {
      "text/plain": [
       "['Solta',\n",
       " 'Greenville',\n",
       " 'Buenos Aires',\n",
       " 'Los Cabos',\n",
       " 'Walla Walla Valley',\n",
       " 'Marakesh',\n",
       " 'Albuquerque',\n",
       " 'Archipelago Sea',\n",
       " 'Iguazu Falls',\n",
       " 'Salina Island',\n",
       " 'Toronto',\n",
       " 'Pyeongchang']"
      ]
     },
     "execution_count": 36,
     "metadata": {},
     "output_type": "execute_result"
    }
   ],
   "source": [
    "top_travel_cities[4] ='Walla Walla Valley'\n",
    "top_travel_cities"
   ]
  },
  {
   "cell_type": "code",
   "execution_count": 37,
   "id": "7073090d",
   "metadata": {},
   "outputs": [
    {
     "data": {
      "text/plain": [
       "['Solta',\n",
       " 'Greenville',\n",
       " 'Buenos Aires',\n",
       " 'Los Cabos',\n",
       " 'Walla Walla Valley',\n",
       " 'Marakesh',\n",
       " 'Albuquerque',\n",
       " 'Archipelago Sea',\n",
       " 'Iguazu Falls',\n",
       " 'Salina Island',\n",
       " 'Toronto',\n",
       " 'Pyeongchang',\n",
       " 'Marakesh']"
      ]
     },
     "execution_count": 37,
     "metadata": {},
     "output_type": "execute_result"
    }
   ],
   "source": [
    "top_travel_cities.append('Marakesh')\n",
    "top_travel_cities"
   ]
  },
  {
   "cell_type": "code",
   "execution_count": 38,
   "id": "b6287340",
   "metadata": {},
   "outputs": [
    {
     "data": {
      "text/plain": [
       "{'Albuquerque',\n",
       " 'Archipelago Sea',\n",
       " 'Buenos Aires',\n",
       " 'Greenville',\n",
       " 'Iguazu Falls',\n",
       " 'Los Cabos',\n",
       " 'Marakesh',\n",
       " 'Pyeongchang',\n",
       " 'Salina Island',\n",
       " 'Solta',\n",
       " 'Toronto',\n",
       " 'Walla Walla Valley'}"
      ]
     },
     "execution_count": 38,
     "metadata": {},
     "output_type": "execute_result"
    }
   ],
   "source": [
    "# finding unique elements in a list\n",
    "set(top_travel_cities)"
   ]
  },
  {
   "cell_type": "code",
   "execution_count": 39,
   "id": "fcec45cf",
   "metadata": {},
   "outputs": [
    {
     "data": {
      "text/plain": [
       "13"
      ]
     },
     "execution_count": 39,
     "metadata": {},
     "output_type": "execute_result"
    }
   ],
   "source": [
    "len(top_travel_cities)"
   ]
  },
  {
   "cell_type": "code",
   "execution_count": null,
   "id": "07e5cb7c",
   "metadata": {},
   "outputs": [],
   "source": []
  }
 ],
 "metadata": {
  "kernelspec": {
   "display_name": "Python 3 (ipykernel)",
   "language": "python",
   "name": "python3"
  },
  "language_info": {
   "codemirror_mode": {
    "name": "ipython",
    "version": 3
   },
   "file_extension": ".py",
   "mimetype": "text/x-python",
   "name": "python",
   "nbconvert_exporter": "python",
   "pygments_lexer": "ipython3",
   "version": "3.11.5"
  }
 },
 "nbformat": 4,
 "nbformat_minor": 5
}
